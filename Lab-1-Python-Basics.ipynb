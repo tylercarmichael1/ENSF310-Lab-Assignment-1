{
 "cells": [
  {
   "cell_type": "markdown",
   "source": [
    "# ENSF 310 - Lab Assignment #1\r\n",
    "\r\n",
    "Tuesday, September 14th\r\n",
    "\r\n",
    "This lab will be completed individually and should submitted prior to the end of lab.  Once you have finished all the components, show your lab to the TA, Amin Abedi, to be checked off.  \r\n",
    "\r\n",
    "Objectives:\r\n",
    "- Use git to checkout, edit and commit changes to a document\r\n",
    "- Use basic programming concepts in Python \r\n",
    "\r\n",
    "## Task 1 - Set up git\r\n",
    "\r\n",
    "If you have never used git on your computer, you will need to do an initial setup.  Open command prompt, powershell or terminal on your computer and type the following commands one at a time: \r\n",
    "\r\n",
    "`git config --global user.email \"EMAIL\"`\r\n",
    "\r\n",
    "`git config --global user.name \"NAME\"`\r\n",
    "\r\n",
    "**IMPORTANT**: Replace EMAIL with your ucalgary.ca email address and NAME with your full name (first and last name)\r\n",
    "\r\n",
    "### Task 1.1 Git and GitHub Basics\r\n",
    "\r\n",
    "In the first part of the lab, you will complete the *Git and GitHub Basics* assignment.  Go to: https://classroom.github.com/a/KGAMwYd5 to accept the assignment and follow the directions.  \r\n",
    "\r\n",
    "**Note**: You MUST use your ucalgary.ca email when you create your GitHub account!\r\n",
    "\r\n",
    "### Accept Lab Assignment #1\r\n",
    "\r\n",
    "Go to: https://classroom.github.com/g/POWvl5Wb to accept the first lab assignment.  \r\n",
    "\r\n",
    "### Pull (and push) the Repository\r\n",
    "In Visual Studio Code, clone the respository:\r\n",
    "- Press Ctrl+Shift+P or open the Command Pallete and type 'Clone'.  Select 'Git:Clone' and then enter the url of the team assignment repository.\r\n",
    "\r\n",
    "After you have finished the remaining parts of the lab, save the file.  VS Code will automatically mark the file as changed.\r\n",
    "- In the source control tab (Shift + Ctrl + G), `Lab-1-Python-Basics.ipynb` should appear under changes.  Right click on the file and select 'Stage Changes'.\r\n",
    "- Above Changes, there should be a textbox to enter a Message.  Enter a descriptive message of the changes made to the file and press Ctrl + Enter.  You may have to press the check mark to commit the changes.\r\n",
    "- Finally, select the three dots '...', select 'Pull,Push' and select 'Push'. "
   ],
   "metadata": {}
  },
  {
   "cell_type": "markdown",
   "source": [
    "## Task 2: Python Review\n",
    "\n",
    "### Problem 1: User Input\n",
    "You've been asked to write some code to help determine some statistics about a series of numbers.  Your code should:\n",
    "- ask the user to enter a number\n",
    "  - if the entry is 'p', print the list of entered numbers\n",
    "  - if the entry is 's', print the minimum, maximum and average of the numbers entered thus far\n",
    "  - if the entry is 'x' or 'q', print the statistics and then exit\n",
    "  - if the entry is a valid number, add it to a list of entered numbers.  You should account for floating point numbers (i.e. 3.14)\n",
    "  - if the entry is not a valid number, print an error message\n",
    "- the code should continue prompting the user until 'x' or 'q' is entered"
   ],
   "metadata": {}
  },
  {
   "cell_type": "code",
   "execution_count": null,
   "source": [
    "\r\n"
   ],
   "outputs": [],
   "metadata": {
    "tags": []
   }
  },
  {
   "cell_type": "markdown",
   "source": [
    "### Problem 2: Functions\n",
    "\n",
    "Write a functioin that takes a number as an input and returns the binary representation of the number as a string.  Here is some example usage:\n",
    "\n",
    "`print(toBinary(8))`\n",
    "`'0b1000'`\n",
    "\n",
    "`print(toBinary(33))`\n",
    "`'0b100001'`\n"
   ],
   "metadata": {}
  },
  {
   "cell_type": "code",
   "execution_count": null,
   "source": [],
   "outputs": [],
   "metadata": {}
  },
  {
   "cell_type": "markdown",
   "source": [
    "Once you've completed the two problems, demonstrate your code to Amin and check it into your github repository.  ONce this is complete, you are done!"
   ],
   "metadata": {}
  }
 ],
 "metadata": {
  "interpreter": {
   "hash": "532ca4eccceed63668e63435958ee5e649cbcf47c68f2e960cf9dfc9eec887ec"
  },
  "kernelspec": {
   "display_name": "Python 3",
   "language": "python",
   "name": "python3"
  },
  "language_info": {
   "codemirror_mode": {
    "name": "ipython",
    "version": 3
   },
   "file_extension": ".py",
   "mimetype": "text/x-python",
   "name": "python",
   "nbconvert_exporter": "python",
   "pygments_lexer": "ipython3",
   "version": "3.8.3"
  }
 },
 "nbformat": 4,
 "nbformat_minor": 2
}